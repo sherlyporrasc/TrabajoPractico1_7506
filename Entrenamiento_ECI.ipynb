{
 "cells": [
  {
   "cell_type": "code",
   "execution_count": 5,
   "metadata": {
    "collapsed": true
   },
   "outputs": [],
   "source": [
    "import pandas as pd\n",
    "import numpy as np\n",
    "import seaborn as sns\n",
    "import matplotlib.pyplot as plt\n",
    "import datetime as datetime\n",
    "import pandas "
   ]
  },
  {
   "cell_type": "code",
   "execution_count": 2,
   "metadata": {},
   "outputs": [
    {
     "data": {
      "text/plain": [
       "'4.1.1'"
      ]
     },
     "execution_count": 2,
     "metadata": {},
     "output_type": "execute_result"
    }
   ],
   "source": [
    "import plotly\n",
    "plotly.__version__"
   ]
  },
  {
   "cell_type": "code",
   "execution_count": 3,
   "metadata": {
    "collapsed": true
   },
   "outputs": [],
   "source": [
    "import plotly.express as px"
   ]
  },
  {
   "cell_type": "code",
   "execution_count": 4,
   "metadata": {},
   "outputs": [
    {
     "data": {
      "text/html": [
       "<div>\n",
       "<style scoped>\n",
       "    .dataframe tbody tr th:only-of-type {\n",
       "        vertical-align: middle;\n",
       "    }\n",
       "\n",
       "    .dataframe tbody tr th {\n",
       "        vertical-align: top;\n",
       "    }\n",
       "\n",
       "    .dataframe thead th {\n",
       "        text-align: right;\n",
       "    }\n",
       "</style>\n",
       "<table border=\"1\" class=\"dataframe\">\n",
       "  <thead>\n",
       "    <tr style=\"text-align: right;\">\n",
       "      <th></th>\n",
       "      <th>ID</th>\n",
       "      <th>Region</th>\n",
       "      <th>Territory</th>\n",
       "      <th>Pricing, Delivery_Terms_Quote_Appr</th>\n",
       "      <th>Pricing, Delivery_Terms_Approved</th>\n",
       "      <th>Bureaucratic_Code_0_Approval</th>\n",
       "      <th>Bureaucratic_Code_0_Approved</th>\n",
       "      <th>Submitted_for_Approval</th>\n",
       "      <th>Bureaucratic_Code</th>\n",
       "      <th>Account_Created_Date</th>\n",
       "      <th>...</th>\n",
       "      <th>Delivery_Quarter</th>\n",
       "      <th>Delivery_Year</th>\n",
       "      <th>Actual_Delivery_Date</th>\n",
       "      <th>TRF</th>\n",
       "      <th>Total_Amount_Currency</th>\n",
       "      <th>Total_Amount</th>\n",
       "      <th>Total_Taxable_Amount_Currency</th>\n",
       "      <th>Total_Taxable_Amount</th>\n",
       "      <th>Stage</th>\n",
       "      <th>Prod_Category_A</th>\n",
       "    </tr>\n",
       "  </thead>\n",
       "  <tbody>\n",
       "    <tr>\n",
       "      <th>0</th>\n",
       "      <td>27761</td>\n",
       "      <td>EMEA</td>\n",
       "      <td>None</td>\n",
       "      <td>1</td>\n",
       "      <td>1</td>\n",
       "      <td>1</td>\n",
       "      <td>1</td>\n",
       "      <td>0</td>\n",
       "      <td>Bureaucratic_Code_4</td>\n",
       "      <td>6/16/2015</td>\n",
       "      <td>...</td>\n",
       "      <td>Q2</td>\n",
       "      <td>2016</td>\n",
       "      <td>NaT</td>\n",
       "      <td>10</td>\n",
       "      <td>EUR</td>\n",
       "      <td>5272800.0</td>\n",
       "      <td>EUR</td>\n",
       "      <td>5272800.0</td>\n",
       "      <td>Closed Lost</td>\n",
       "      <td>Prod_Category_A_None</td>\n",
       "    </tr>\n",
       "    <tr>\n",
       "      <th>1</th>\n",
       "      <td>27760</td>\n",
       "      <td>EMEA</td>\n",
       "      <td>None</td>\n",
       "      <td>0</td>\n",
       "      <td>0</td>\n",
       "      <td>0</td>\n",
       "      <td>0</td>\n",
       "      <td>0</td>\n",
       "      <td>Bureaucratic_Code_4</td>\n",
       "      <td>6/16/2015</td>\n",
       "      <td>...</td>\n",
       "      <td>Q1</td>\n",
       "      <td>2016</td>\n",
       "      <td>NaT</td>\n",
       "      <td>0</td>\n",
       "      <td>EUR</td>\n",
       "      <td>48230.0</td>\n",
       "      <td>EUR</td>\n",
       "      <td>48230.0</td>\n",
       "      <td>Closed Won</td>\n",
       "      <td>Prod_Category_A_None</td>\n",
       "    </tr>\n",
       "    <tr>\n",
       "      <th>2</th>\n",
       "      <td>27446</td>\n",
       "      <td>Americas</td>\n",
       "      <td>NW America</td>\n",
       "      <td>0</td>\n",
       "      <td>0</td>\n",
       "      <td>0</td>\n",
       "      <td>0</td>\n",
       "      <td>0</td>\n",
       "      <td>Bureaucratic_Code_4</td>\n",
       "      <td>4/21/2015</td>\n",
       "      <td>...</td>\n",
       "      <td>Q1</td>\n",
       "      <td>2016</td>\n",
       "      <td>NaT</td>\n",
       "      <td>0</td>\n",
       "      <td>USD</td>\n",
       "      <td>83865.6</td>\n",
       "      <td>USD</td>\n",
       "      <td>83865.6</td>\n",
       "      <td>Closed Won</td>\n",
       "      <td>Prod_Category_A_None</td>\n",
       "    </tr>\n",
       "    <tr>\n",
       "      <th>3</th>\n",
       "      <td>16808</td>\n",
       "      <td>Americas</td>\n",
       "      <td>NW America</td>\n",
       "      <td>1</td>\n",
       "      <td>0</td>\n",
       "      <td>1</td>\n",
       "      <td>0</td>\n",
       "      <td>0</td>\n",
       "      <td>Bureaucratic_Code_5</td>\n",
       "      <td>7/27/2013</td>\n",
       "      <td>...</td>\n",
       "      <td>Q1</td>\n",
       "      <td>2018</td>\n",
       "      <td>NaT</td>\n",
       "      <td>14</td>\n",
       "      <td>USD</td>\n",
       "      <td>7421881.5</td>\n",
       "      <td>USD</td>\n",
       "      <td>7421881.5</td>\n",
       "      <td>Closed Lost</td>\n",
       "      <td>Prod_Category_A_None</td>\n",
       "    </tr>\n",
       "    <tr>\n",
       "      <th>4</th>\n",
       "      <td>16805</td>\n",
       "      <td>Americas</td>\n",
       "      <td>NW America</td>\n",
       "      <td>1</td>\n",
       "      <td>0</td>\n",
       "      <td>1</td>\n",
       "      <td>0</td>\n",
       "      <td>0</td>\n",
       "      <td>Bureaucratic_Code_5</td>\n",
       "      <td>7/27/2013</td>\n",
       "      <td>...</td>\n",
       "      <td>Q1</td>\n",
       "      <td>2018</td>\n",
       "      <td>NaT</td>\n",
       "      <td>25</td>\n",
       "      <td>USD</td>\n",
       "      <td>13357192.5</td>\n",
       "      <td>USD</td>\n",
       "      <td>13357192.5</td>\n",
       "      <td>Closed Lost</td>\n",
       "      <td>Prod_Category_A_None</td>\n",
       "    </tr>\n",
       "  </tbody>\n",
       "</table>\n",
       "<p>5 rows × 52 columns</p>\n",
       "</div>"
      ],
      "text/plain": [
       "      ID    Region   Territory  Pricing, Delivery_Terms_Quote_Appr  \\\n",
       "0  27761      EMEA        None                                   1   \n",
       "1  27760      EMEA        None                                   0   \n",
       "2  27446  Americas  NW America                                   0   \n",
       "3  16808  Americas  NW America                                   1   \n",
       "4  16805  Americas  NW America                                   1   \n",
       "\n",
       "   Pricing, Delivery_Terms_Approved  Bureaucratic_Code_0_Approval  \\\n",
       "0                                 1                             1   \n",
       "1                                 0                             0   \n",
       "2                                 0                             0   \n",
       "3                                 0                             1   \n",
       "4                                 0                             1   \n",
       "\n",
       "   Bureaucratic_Code_0_Approved  Submitted_for_Approval    Bureaucratic_Code  \\\n",
       "0                             1                       0  Bureaucratic_Code_4   \n",
       "1                             0                       0  Bureaucratic_Code_4   \n",
       "2                             0                       0  Bureaucratic_Code_4   \n",
       "3                             0                       0  Bureaucratic_Code_5   \n",
       "4                             0                       0  Bureaucratic_Code_5   \n",
       "\n",
       "  Account_Created_Date  ... Delivery_Quarter Delivery_Year  \\\n",
       "0            6/16/2015  ...               Q2          2016   \n",
       "1            6/16/2015  ...               Q1          2016   \n",
       "2            4/21/2015  ...               Q1          2016   \n",
       "3            7/27/2013  ...               Q1          2018   \n",
       "4            7/27/2013  ...               Q1          2018   \n",
       "\n",
       "  Actual_Delivery_Date TRF  Total_Amount_Currency Total_Amount  \\\n",
       "0                  NaT  10                    EUR    5272800.0   \n",
       "1                  NaT   0                    EUR      48230.0   \n",
       "2                  NaT   0                    USD      83865.6   \n",
       "3                  NaT  14                    USD    7421881.5   \n",
       "4                  NaT  25                    USD   13357192.5   \n",
       "\n",
       "  Total_Taxable_Amount_Currency Total_Taxable_Amount        Stage  \\\n",
       "0                           EUR            5272800.0  Closed Lost   \n",
       "1                           EUR              48230.0   Closed Won   \n",
       "2                           USD              83865.6   Closed Won   \n",
       "3                           USD            7421881.5  Closed Lost   \n",
       "4                           USD           13357192.5  Closed Lost   \n",
       "\n",
       "        Prod_Category_A  \n",
       "0  Prod_Category_A_None  \n",
       "1  Prod_Category_A_None  \n",
       "2  Prod_Category_A_None  \n",
       "3  Prod_Category_A_None  \n",
       "4  Prod_Category_A_None  \n",
       "\n",
       "[5 rows x 52 columns]"
      ]
     },
     "execution_count": 4,
     "metadata": {},
     "output_type": "execute_result"
    }
   ],
   "source": [
    "arch=pd.read_csv(\"../orga2_21/Entrenamieto_ECI_2020.csv\",low_memory=False)\n",
    "arch.head()"
   ]
  },
  {
   "cell_type": "markdown",
   "metadata": {},
   "source": [
    "### Trabajo con los datos de Stage=close lost y close won por lo que filtramos los mismo y como en esta etapa analizaremos las Oportunidades y los productos solo me quedo con las columnas que corresponden"
   ]
  },
  {
   "cell_type": "code",
   "execution_count": 6,
   "metadata": {
    "collapsed": true
   },
   "outputs": [],
   "source": [
    "archSoloCloseLost=arch[(arch['Stage']=='Closed Lost')]"
   ]
  },
  {
   "cell_type": "code",
   "execution_count": 7,
   "metadata": {
    "collapsed": true
   },
   "outputs": [],
   "source": [
    "archSoloCloseWon=arch[(arch['Stage']=='Closed Won')]"
   ]
  },
  {
   "cell_type": "markdown",
   "metadata": {},
   "source": [
    "# Que producto se vendio más"
   ]
  },
  {
   "cell_type": "code",
   "execution_count": 8,
   "metadata": {
    "collapsed": true
   },
   "outputs": [],
   "source": [
    "cantProduct_Won=archSoloCloseWon.loc[:,['Opportunity_ID','Product_Name']]"
   ]
  },
  {
   "cell_type": "code",
   "execution_count": 11,
   "metadata": {},
   "outputs": [
    {
     "data": {
      "image/png": "[encoded data removed]",
      "text/plain": [
       "<Figure size 1440x576 with 1 Axes>"
      ]
     },
     "metadata": {},
     "output_type": "display_data"
    }
   ],
   "source": [
    "f = plt.figure()\n",
    "\n",
    "grafhist=cantProduct_Won['Product_Name'].value_counts().nlargest(6)\n",
    "\n",
    "\n",
    "plt.title('Top de cantidad de productos mas vendidos', color='black',fontsize=15)\n",
    "\n",
    "ax=grafhist.plot(kind='bar',rot=80,figsize=(20,8),fontsize=14,color='m' );\n",
    "\n",
    "ax.set_ylabel('Cantidad de Productos',fontsize=16);\n",
    "ax.set_xlabel('Nombre de Producto',fontsize=16);\n",
    "\n",
    "rects = ax.patches \n",
    "\n",
    "for rect, label in zip(rects, grafhist): \n",
    "    height = rect.get_height() \n",
    "    ax.text(rect.get_x() + rect.get_width()/2, height, label,color='red', fontsize=15, ha='center', va='bottom')\n",
    "    \n",
    "plt.show()"
   ]
  },
  {
   "cell_type": "code",
   "execution_count": null,
   "metadata": {
    "collapsed": true
   },
   "outputs": [],
   "source": []
  },
  {
   "cell_type": "code",
   "execution_count": null,
   "metadata": {
    "collapsed": true
   },
   "outputs": [],
   "source": []
  },
  {
   "cell_type": "code",
   "execution_count": null,
   "metadata": {
    "collapsed": true
   },
   "outputs": [],
   "source": []
  }
 ],
 "metadata": {
  "kernelspec": {
   "display_name": "Python 3",
   "language": "python",
   "name": "python3"
  },
  "language_info": {
   "codemirror_mode": {
    "name": "ipython",
    "version": 3
   },
   "file_extension": ".py",
   "mimetype": "text/x-python",
   "name": "python",
   "nbconvert_exporter": "python",
   "pygments_lexer": "ipython3",
   "version": "3.6.3"
  }
 },
 "nbformat": 4,
 "nbformat_minor": 2
}
